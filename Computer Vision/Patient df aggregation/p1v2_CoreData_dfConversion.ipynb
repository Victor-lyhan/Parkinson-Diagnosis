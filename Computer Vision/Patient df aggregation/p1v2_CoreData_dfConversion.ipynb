{
 "cells": [
  {
   "cell_type": "code",
   "execution_count": null,
   "metadata": {},
   "outputs": [],
   "source": [
    "import pandas as pd\n",
    "import numpy as np"
   ]
  },
  {
   "cell_type": "code",
   "execution_count": null,
   "metadata": {},
   "outputs": [],
   "source": [
    "video_data_path = \"Results/p1v2_results.csv\"\n",
    "df_p1v2 = pd.read_csv(video_data_path, encoding = 'latin-1').dropna()"
   ]
  },
  {
   "cell_type": "markdown",
   "metadata": {},
   "source": []
  },
  {
   "cell_type": "code",
   "execution_count": null,
   "metadata": {},
   "outputs": [],
   "source": [
    "#pd.set_option('display.max_columns', None)\n",
    "df_p1v2_Core = df_p1v2.iloc[:, [12, 13]]\n",
    "df_p1v2_Core #linear acceleration, angular velocity"
   ]
  },
  {
   "cell_type": "code",
   "execution_count": null,
   "metadata": {},
   "outputs": [],
   "source": [
    "# added FoG ratio, time, and UPDRS-III\n",
    "Patient_All_Data = \"../Data/PDFEinfo.csv\"\n",
    "df_all = pd.read_csv(Patient_All_Data, encoding='latin-1', sep=';')\n",
    "\n",
    "FogRatioTimeUPDRSIII = df_all.iloc[0, [32, 43, 45]].values.astype(float)\n",
    "\n",
    "for _ in range(5 - df_p1v2_Core.shape[1]):\n",
    "    df_p1v2_Core[f'new_col_{df_p1v2_Core.shape[1]}'] = 0\n",
    "\n",
    "column_mapping = {df_p1v2_Core.columns[2]: 'UPDRS-III', \n",
    "                  df_p1v2_Core.columns[3]: 'FoG Total Time', \n",
    "                  df_p1v2_Core.columns[4]: 'FoG Ratio'}\n",
    "df_p1v2_Core.rename(columns=column_mapping, inplace=True)\n",
    "\n",
    "\n",
    "df_p1v2_Core.loc[:, 'UPDRS-III'] = FogRatioTimeUPDRSIII[0]\n",
    "df_p1v2_Core.loc[:, 'FoG Total Time'] = FogRatioTimeUPDRSIII[1]\n",
    "df_p1v2_Core.loc[:, 'FoG Ratio'] = FogRatioTimeUPDRSIII[2]\n",
    "\n",
    "\n",
    "df_p1v2_Core['UPDRS-III'] = df_p1v2_Core['UPDRS-III'].astype(float)\n",
    "df_p1v2_Core['FoG Total Time'] = df_p1v2_Core['FoG Total Time'].astype(float)\n",
    "df_p1v2_Core['FoG Ratio'] = df_p1v2_Core['FoG Ratio'].astype(float)\n"
   ]
  },
  {
   "cell_type": "code",
   "execution_count": 7,
   "metadata": {},
   "outputs": [],
   "source": [
    "df_p1v2_Core.to_csv('../Computer Vision/Results/df_p1v2_Core.csv', index=False)"
   ]
  }
 ],
 "metadata": {
  "kernelspec": {
   "display_name": "venv",
   "language": "python",
   "name": "python3"
  },
  "language_info": {
   "codemirror_mode": {
    "name": "ipython",
    "version": 3
   },
   "file_extension": ".py",
   "mimetype": "text/x-python",
   "name": "python",
   "nbconvert_exporter": "python",
   "pygments_lexer": "ipython3",
   "version": "3.10.14"
  }
 },
 "nbformat": 4,
 "nbformat_minor": 2
}
