{
 "cells": [
  {
   "cell_type": "code",
   "execution_count": 16,
   "metadata": {},
   "outputs": [],
   "source": [
    "import pandas as pd\n",
    "import numpy as np\n",
    "import matplotlib.pyplot as plt\n",
    "import os"
   ]
  },
  {
   "cell_type": "code",
   "execution_count": 17,
   "metadata": {},
   "outputs": [],
   "source": [
    "os.chdir('/Users/hanliyang/Documents/GitHub/Parkinson-Prediagnosis')\n",
    "df_all_stats = pd.read_csv('Computer Vision/Results/df_all_stats_angularAcceleration.csv')\n",
    "df_np_all_stats = pd.read_csv('Computer Vision/Results/df_np_all_stats_angularAcceleration.csv')"
   ]
  },
  {
   "cell_type": "markdown",
   "metadata": {},
   "source": [
    "### Patient"
   ]
  },
  {
   "cell_type": "code",
   "execution_count": 20,
   "metadata": {},
   "outputs": [
    {
     "name": "stdout",
     "output_type": "stream",
     "text": [
      "The average min is: -25907.74808054597\n",
      "The average max is: 25956.019888676696\n",
      "The average std is: 919.2189962040665\n",
      "The average mean is: -2.2128066793789336\n"
     ]
    }
   ],
   "source": [
    "df_all_std_avg = df_all_stats['std'].mean()\n",
    "df_all_mean_avg = df_all_stats['mean'].mean()\n",
    "df_all_min_avg = df_all_stats['min'].min()\n",
    "df_all_max_avg = df_all_stats['max'].max()\n",
    "\n",
    "print(f\"The average min is: {df_all_min_avg}\")\n",
    "print(f\"The average max is: {df_all_max_avg}\")\n",
    "print(f\"The average std is: {df_all_std_avg}\")\n",
    "print(f\"The average mean is: {df_all_mean_avg}\")"
   ]
  },
  {
   "cell_type": "markdown",
   "metadata": {},
   "source": [
    "### Normal People"
   ]
  },
  {
   "cell_type": "code",
   "execution_count": 22,
   "metadata": {},
   "outputs": [
    {
     "name": "stdout",
     "output_type": "stream",
     "text": [
      "The average min is: -729.6990328980639\n",
      "The average max is: 711.4726044085791\n",
      "The average std is: 69.19844224239625\n",
      "The average mean is: 0.03527340888904175\n"
     ]
    }
   ],
   "source": [
    "df_np_all_std_avg = df_np_all_stats['std'].mean()\n",
    "df_np_all_mean_avg = df_np_all_stats['mean'].mean()\n",
    "df_np_all_min_avg = df_np_all_stats['min'].min()\n",
    "df_np_all_max_avg = df_np_all_stats['max'].max()\n",
    "\n",
    "print(f\"The average min is: {df_np_all_min_avg}\")\n",
    "print(f\"The average max is: {df_np_all_max_avg}\")\n",
    "print(f\"The average std is: {df_np_all_std_avg}\")\n",
    "print(f\"The average mean is: {df_np_all_mean_avg}\")"
   ]
  }
 ],
 "metadata": {
  "kernelspec": {
   "display_name": "venv",
   "language": "python",
   "name": "python3"
  },
  "language_info": {
   "codemirror_mode": {
    "name": "ipython",
    "version": 3
   },
   "file_extension": ".py",
   "mimetype": "text/x-python",
   "name": "python",
   "nbconvert_exporter": "python",
   "pygments_lexer": "ipython3",
   "version": "3.10.14"
  }
 },
 "nbformat": 4,
 "nbformat_minor": 2
}
