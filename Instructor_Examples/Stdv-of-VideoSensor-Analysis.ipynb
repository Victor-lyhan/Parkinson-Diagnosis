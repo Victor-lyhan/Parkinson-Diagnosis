{
 "cells": [
  {
   "cell_type": "code",
   "execution_count": 1,
   "metadata": {},
   "outputs": [],
   "source": [
    "import pandas as pd\n",
    "import os\n",
    "\n",
    "# Path to the folder of csv files\n",
    "path_to_folder = '../Computer Vision/Results/test/'\n",
    "\n",
    "# Create an empty list\n",
    "summary_list = []\n",
    "\n",
    "# Iterate over each file in the folder\n",
    "for file_name in os.listdir(path_to_folder):\n",
    "    # Create directory for each individual video\n",
    "    file_path = os.path.join(path_to_folder, file_name)\n",
    "\n",
    "    # Read the csv file, calculate the stats and add a column of which file the stats came from\n",
    "    df = pd.read_csv(file_path)\n",
    "    df_desc = df.describe()\n",
    "    df_desc['file'] = file_name\n",
    "    \n",
    "    # Append the statistic dataframe onto the list\n",
    "    summary_list.append(df_desc)\n",
    "\n",
    "# Combine the staststic dataframes from 'summary_list into one df\n",
    "combined_desc = pd.concat(summary_list)\n",
    "\n",
    "combined_desc.to_csv('combined_summary.csv', index = False)"
   ]
  }
 ],
 "metadata": {
  "kernelspec": {
   "display_name": "venv",
   "language": "python",
   "name": "python3"
  },
  "language_info": {
   "codemirror_mode": {
    "name": "ipython",
    "version": 3
   },
   "file_extension": ".py",
   "mimetype": "text/x-python",
   "name": "python",
   "nbconvert_exporter": "python",
   "pygments_lexer": "ipython3",
   "version": "3.12.0"
  }
 },
 "nbformat": 4,
 "nbformat_minor": 2
}
