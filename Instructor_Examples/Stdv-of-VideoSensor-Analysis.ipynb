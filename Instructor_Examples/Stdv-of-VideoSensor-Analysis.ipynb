{
 "cells": [
  {
   "cell_type": "code",
   "execution_count": 10,
   "metadata": {},
   "outputs": [],
   "source": [
    "import pandas as pd\n",
    "import os\n",
    "\n",
    "# Path to the folder of csv files\n",
    "path_to_folder = '../Computer Vision/Results/test/'\n",
    "\n",
    "# Create an empty list\n",
    "summary_list = []\n",
    "\n",
    "# Iterate over each file in the folder\n",
    "for file_name in os.listdir(path_to_folder):\n",
    "    # Create directory for each individual video\n",
    "    file_path = os.path.join(path_to_folder, file_name)\n",
    "\n",
    "    # Ensure only CSV files are processed\n",
    "    if file_path.endswith('.csv'):\n",
    "        # Read the csv file, calculate the stats and add a column of which file the stats came from\n",
    "        df = pd.read_csv(file_path)\n",
    "        df_desc = df.describe().T\n",
    "        df_desc['file'] = file_name\n",
    "        \n",
    "        # Print the shape of the DataFrame and the stats\n",
    "        print(f\"Processing file: {file_path}\")\n",
    "        print(f\"DataFrame shape: {df.shape}\")\n",
    "        print(f\"Statistics shape: {df_desc.shape}\")\n",
    "        \n",
    "        # Append the statistic dataframe onto the list\n",
    "        summary_list.append(df_desc)\n",
    "\n",
    "# Combine the statistics dataframes from 'summary_list' into one df\n",
    "combined_desc = pd.concat(summary_list)\n",
    "\n",
    "# Print the shape of the combined DataFrame\n",
    "print(f\"Combined description shape: {combined_desc.shape}\")\n",
    "\n",
    "# Save to CSV\n",
    "combined_desc.to_csv('combined_summary.csv', index=False)\n"
   ]
  },
  {
   "cell_type": "code",
   "execution_count": 9,
   "metadata": {},
   "outputs": [
    {
     "name": "stdout",
     "output_type": "stream",
     "text": [
      "                      count          mean           std           min  \\\n",
      "timestamp            3650.0  1.720902e+09     79.958000  1.720902e+09   \n",
      "frame_time           3650.0  6.087748e+01     35.162079  0.000000e+00   \n",
      "index                3650.0  6.783562e-01      0.467171  0.000000e+00   \n",
      "right_ankle_x        3650.0  4.496368e-01      0.037596  4.009564e-01   \n",
      "right_ankle_y        3650.0  5.430011e-01      0.035675  4.526048e-01   \n",
      "right_knee_x         3650.0  4.557660e-01      0.035201  4.029346e-01   \n",
      "right_knee_y         3650.0  2.773654e-01      0.039245  1.190315e-01   \n",
      "right_hip_x          3650.0  3.464998e-01      0.189593  0.000000e+00   \n",
      "right_hip_y          3650.0  1.785154e-02      0.014742  0.000000e+00   \n",
      "magnitude1           3650.0  2.658106e-01      0.033934  1.929995e-01   \n",
      "magnitude2           3650.0  5.593642e-01      0.067973  4.222052e-01   \n",
      "angle_deg            3650.0  1.090463e+01     16.541189  0.000000e+00   \n",
      "angular_velocity     3649.0  6.155509e-03     98.301165 -5.528497e+02   \n",
      "linear_acceleration  3648.0  9.867675e+00  20716.650181 -1.445617e+05   \n",
      "\n",
      "                              25%           50%           75%           max  \\\n",
      "timestamp            1.720902e+09  1.720902e+09  1.720902e+09  1.720902e+09   \n",
      "frame_time           3.043874e+01  6.087748e+01  9.131623e+01  1.217550e+02   \n",
      "index                0.000000e+00  1.000000e+00  1.000000e+00  1.000000e+00   \n",
      "right_ankle_x        4.183954e-01  4.329544e-01  4.815838e-01  6.953064e-01   \n",
      "right_ankle_y        5.211814e-01  5.436954e-01  5.729547e-01  5.954373e-01   \n",
      "right_knee_x         4.186197e-01  4.486990e-01  4.879535e-01  6.755825e-01   \n",
      "right_knee_y         2.555872e-01  2.836314e-01  3.081541e-01  3.350054e-01   \n",
      "right_hip_x          4.002027e-01  4.288325e-01  4.670948e-01  6.616287e-01   \n",
      "right_hip_y          2.487130e-03  1.826121e-02  2.757896e-02  9.070678e-02   \n",
      "magnitude1           2.503234e-01  2.652589e-01  2.744062e-01  4.057353e-01   \n",
      "magnitude2           5.161719e-01  5.454820e-01  5.655943e-01  7.099565e-01   \n",
      "angle_deg            1.450518e+00  2.271347e+00  3.916758e+00  4.413012e+01   \n",
      "angular_velocity    -2.088277e+00  7.756488e-02  2.094851e+00  5.771105e+02   \n",
      "linear_acceleration -4.523521e+02  3.941835e+00  4.592669e+02  1.486876e+05   \n",
      "\n",
      "                                                                 file  \n",
      "timestamp            ../Computer Vision/Results/test/p7v2_results.csv  \n",
      "frame_time           ../Computer Vision/Results/test/p7v2_results.csv  \n",
      "index                ../Computer Vision/Results/test/p7v2_results.csv  \n",
      "right_ankle_x        ../Computer Vision/Results/test/p7v2_results.csv  \n",
      "right_ankle_y        ../Computer Vision/Results/test/p7v2_results.csv  \n",
      "right_knee_x         ../Computer Vision/Results/test/p7v2_results.csv  \n",
      "right_knee_y         ../Computer Vision/Results/test/p7v2_results.csv  \n",
      "right_hip_x          ../Computer Vision/Results/test/p7v2_results.csv  \n",
      "right_hip_y          ../Computer Vision/Results/test/p7v2_results.csv  \n",
      "magnitude1           ../Computer Vision/Results/test/p7v2_results.csv  \n",
      "magnitude2           ../Computer Vision/Results/test/p7v2_results.csv  \n",
      "angle_deg            ../Computer Vision/Results/test/p7v2_results.csv  \n",
      "angular_velocity     ../Computer Vision/Results/test/p7v2_results.csv  \n",
      "linear_acceleration  ../Computer Vision/Results/test/p7v2_results.csv  \n"
     ]
    }
   ],
   "source": [
    "print(df_desc)"
   ]
  }
 ],
 "metadata": {
  "kernelspec": {
   "display_name": "venv",
   "language": "python",
   "name": "python3"
  },
  "language_info": {
   "codemirror_mode": {
    "name": "ipython",
    "version": 3
   },
   "file_extension": ".py",
   "mimetype": "text/x-python",
   "name": "python",
   "nbconvert_exporter": "python",
   "pygments_lexer": "ipython3",
   "version": "3.12.0"
  }
 },
 "nbformat": 4,
 "nbformat_minor": 2
}
