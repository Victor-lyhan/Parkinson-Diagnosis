{
 "cells": [
  {
   "cell_type": "code",
   "execution_count": null,
   "metadata": {},
   "outputs": [],
   "source": [
    "import pandas as pd\n",
    "import os\n",
    "\n",
    "# Path to the folder of csv files\n",
    "path_to_folder = 'path/to/folder'\n",
    "\n",
    "# Create an empty list\n",
    "summary_list = []\n",
    "\n",
    "# Iterate over each file in the folder\n",
    "for file_name in os.listdir(path_to_folder):\n",
    "    # Create directory for each individual video\n",
    "    file_path = os.path.join(path_to_folder, file_name)\n",
    "\n",
    "    # Read the csv file, calculate the stats and add a column of which file the stats came from\n",
    "    df = pd.read_csv(file_path)\n",
    "    df_desc = df.describe()\n",
    "    df_desc['file'] = file_name\n",
    "    \n",
    "    # Append the statistic dataframe onto the list\n",
    "    summary_list.append(df_desc)\n",
    "\n",
    "# Combine the staststic dataframes from 'summary_list into one df\n",
    "combined_desc = pd.concat(summary_list)\n",
    "\n",
    "combined_desc.to_csv('combined_summary.csv', index = False)"
   ]
  }
 ],
 "metadata": {
  "kernelspec": {
   "display_name": "venv",
   "language": "python",
   "name": "python3"
  },
  "language_info": {
   "name": "python",
   "version": "3.10.11"
  }
 },
 "nbformat": 4,
 "nbformat_minor": 2
}
