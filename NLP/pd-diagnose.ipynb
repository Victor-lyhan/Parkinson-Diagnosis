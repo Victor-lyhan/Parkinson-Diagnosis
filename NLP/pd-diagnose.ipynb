{
  "cells": [
    {
      "cell_type": "markdown",
      "metadata": {
        "id": "kGDCjCD27110"
      },
      "source": [
        "# Parkinson's Diagnose"
      ]
    },
    {
      "cell_type": "code",
      "execution_count": 7,
      "metadata": {},
      "outputs": [],
      "source": [
        "import os\n",
        "os.chdir('/Users/hanliyang/Documents/GitHub/Parkinson-Prediagnosis')"
      ]
    },
    {
      "cell_type": "markdown",
      "metadata": {},
      "source": [
        "## Audio Conversion\n",
        "* Using assembly AI"
      ]
    },
    {
      "cell_type": "code",
      "execution_count": 8,
      "metadata": {},
      "outputs": [],
      "source": [
        "import assemblyai as aai\n",
        "\n",
        "aai.settings.api_key = \"d9ccd193e5e54a4ca8bdddaf3769bc59\"\n",
        "\n",
        "config = aai.TranscriptionConfig(speaker_labels=True)\n",
        "\n",
        "transcriber = aai.Transcriber()\n",
        "\n",
        "audioPath = \"\"\n",
        "\n",
        "def audioTextConversion(audioPath):\n",
        "    dialogue = {\n",
        "        \"Speaker A\" : [],\n",
        "        \"Speaker B\" : []\n",
        "    }\n",
        "    transcript = transcriber.transcribe(\n",
        "    audioPath,\n",
        "    config=config\n",
        "    )\n",
        "\n",
        "    for utterance in transcript.utterances:\n",
        "        print(f\"Speaker {utterance.speaker}: {utterance.text}\")\n",
        "        speaker = f\"Speaker {utterance.speaker}\"\n",
        "        dialogue[speaker].append(utterance.text)\n",
        "    return speaker_differentiation(dialogue)\n",
        "    \n",
        "def speaker_differentiation(dialogue):\n",
        "    totalA = 0\n",
        "    totalB = 0\n",
        "    for text in dialogue['Speaker A']:\n",
        "        totalA += len(text)\n",
        "    \n",
        "    for text in dialogue['Speaker B']:\n",
        "        totalB += len(text)\n",
        "\n",
        "    if totalA > totalB:\n",
        "        return {'participant':str(dialogue[\"Speaker A\"]), \n",
        "                \"interviewer\": str(dialogue[\"Speaker B\"])} \n",
        "    else:\n",
        "        return {'participant':str(dialogue[\"Speaker B\"]), \n",
        "                \"interviewer\": str(dialogue[\"Speaker A\"])} \n",
        " "
      ]
    },
    {
      "cell_type": "code",
      "execution_count": 10,
      "metadata": {},
      "outputs": [
        {
          "name": "stdout",
          "output_type": "stream",
          "text": [
            "Speaker A: Hi.\n",
            "Speaker B: Okay, so it's my first time in London, and maybe you can give me some tips for sightseeing.\n",
            "Speaker A: Yeah. In London, you can go to Oxford street, which is famous for shopping, and there's selfishes there, and a lot of tourists come there and a lot there. So it's a good place to see when you come to London. And there's Buckingham palace, where the Queen lives, and that's a good place, the way the royal family lives. So you can come there. And there's other big Ben houses of parliament, where the government. The government are british government are. So that's good places to go. And then there's the London Eye, where you can see the whole of London. You go and you can see the whole of London. So that's good places to visit in London. Yeah. So if I was. I was coming, would you recommend. I think, yeah, I would go by public transport. Then you would see how London really is, and you see the whole of London. If you go on a bus or the transport, you would see how London is. So I would advise to go on public transport, buses and trains, so you'd really enjoy it. And you could get on an open tour bus, where you can see the whole of London and go around. It doesn't cost that much, so, yeah, that's good. Yeah, you can see more of London. Yeah.\n",
            "Speaker B: Okay. So that's enough. Thank you.\n",
            "Speaker A: Okay, then. Bye.\n"
          ]
        }
      ],
      "source": [
        "import pandas as pd\n",
        "dialogue = audioTextConversion('NLP/Data/SpontaneousDialogue/HC/ID00_hc_0_0_0.wav')\n",
        "\n",
        "#df = pd.DataFrame(data = dialogue)\n"
      ]
    },
    {
      "cell_type": "markdown",
      "metadata": {
        "id": "6wQQ03Ow8u6J"
      },
      "source": [
        "## Counting Pos"
      ]
    },
    {
      "cell_type": "code",
      "execution_count": 11,
      "metadata": {
        "colab": {
          "base_uri": "https://localhost:8080/"
        },
        "id": "FPsS5RBY9RjC",
        "outputId": "2995c83c-e99a-4c43-aafe-e1e90945d481"
      },
      "outputs": [
        {
          "name": "stderr",
          "output_type": "stream",
          "text": [
            "[nltk_data] Downloading package punkt to /Users/hanliyang/nltk_data...\n",
            "[nltk_data]   Package punkt is already up-to-date!\n",
            "[nltk_data] Downloading package averaged_perceptron_tagger to\n",
            "[nltk_data]     /Users/hanliyang/nltk_data...\n",
            "[nltk_data]   Package averaged_perceptron_tagger is already up-to-\n",
            "[nltk_data]       date!\n"
          ]
        }
      ],
      "source": [
        "import nltk\n",
        "nltk.download('punkt')\n",
        "nltk.download('averaged_perceptron_tagger')\n",
        "\n",
        "from nltk.tag import pos_tag\n",
        "from nltk.tokenize import word_tokenize\n",
        "\n",
        "tokens = \"Computer science is the study of computation, automation, and information.\"\\\n",
        "\"Computer science spans theoretical disciplines (such as algorithms, theory of computation, information theory, and automation) to practical disciplines (including the design and implementation of hardware and software).\"\\\n",
        "\"Computer science is generally considered an academic discipline and distinct from computer programming.\""
      ]
    },
    {
      "cell_type": "markdown",
      "metadata": {
        "id": "1v58QMikBnZc"
      },
      "source": [
        "* verbs - VB\tverb (ask)\n",
        "VBG\tverb gerund (judging)\n",
        "VBD\tverb past tense (pleaded)\n",
        "VBN\tverb past participle (reunified)\n",
        "VBP\tverb, present tense not 3rd person singular(wrap)\n",
        "VBZ\tverb, present tense with 3rd person singular (bases)\n",
        "* common nouns - NN, NNS\n",
        "* proper nouns - NNP, NNPS\n"
      ]
    },
    {
      "cell_type": "code",
      "execution_count": 13,
      "metadata": {
        "id": "O2VPwr9A-OET"
      },
      "outputs": [],
      "source": [
        "filler_words = [\n",
        "    \"um\", \"uh\", \"er\", \"like\", \"you know\", \"i mean\", \"well\", \"so\", \"okay\", \"right\",\n",
        "    \"actually\", \"basically\", \"literally\", \"kind of\", \"sort of\", \"anyway\", \"or something\",\n",
        "    \"whatever\", \"i guess\", \"you see\", \"got it\", \"i suppose\", \"just\", \"yeah\", \"yep\",\n",
        "    \"seriously\", \"alright\", \"hmm\", \"look\", \"totally\", \"alright then\", \"know what i mean?\",\n",
        "    \"at the end of the day\", \"to be honest\", \"if you know what i mean\"\n",
        "]\n",
        "\n",
        "def pdFeaturesCount(tokens):\n",
        "  wordList = pos_tag(word_tokenize(tokens))\n",
        "  totalWords, verbsRate, verbs, commonNouns, properNouns, fillers = 0, 0, 0, 0, 0, 0\n",
        "  for word, pos in wordList:\n",
        "    #print(word, pos)\n",
        "    totalWords += 1\n",
        "    if pos in ['VB', 'VBG', 'VBD', 'VBN', 'VBP', 'VBZ']:\n",
        "      verbs += 1\n",
        "    if pos in ['NN', 'NNS']:\n",
        "      commonNouns += 1\n",
        "    if pos in ['NNP', 'NNPS']:\n",
        "      properNouns += 1\n",
        "    if word in filler_words:\n",
        "      fillers += 1\n",
        "  verbsRate = verbs / totalWords\n",
        "  return f'Total Words: {totalWords}, Verb Rate: {verbsRate}, Verbs: {verbs}, Common Nouns: {commonNouns}, Proper Nouns: {properNouns}, Filler Words: {fillers}'"
      ]
    },
    {
      "cell_type": "code",
      "execution_count": 15,
      "metadata": {
        "colab": {
          "base_uri": "https://localhost:8080/"
        },
        "id": "SYThN75NAFt4",
        "outputId": "363b1c18-bb7a-4b46-dee3-7de5b1e6fa3a"
      },
      "outputs": [
        {
          "data": {
            "text/plain": [
              "'Total Words: 59, Verb Rate: 0.06779661016949153, Verbs: 4, Common Nouns: 25, Proper Nouns: 1, Filler Words: 0'"
            ]
          },
          "execution_count": 15,
          "metadata": {},
          "output_type": "execute_result"
        }
      ],
      "source": [
        "pdFeaturesCount(tokens)"
      ]
    },
    {
      "cell_type": "markdown",
      "metadata": {},
      "source": []
    }
  ],
  "metadata": {
    "colab": {
      "authorship_tag": "ABX9TyNORmJtNOZTaXoell/LOQTl",
      "collapsed_sections": [
        "PKCczpbOHOwl",
        "KLMyAp4wKGC0"
      ],
      "include_colab_link": true,
      "provenance": [],
      "toc_visible": true
    },
    "kernelspec": {
      "display_name": "Python 3",
      "name": "python3"
    },
    "language_info": {
      "codemirror_mode": {
        "name": "ipython",
        "version": 3
      },
      "file_extension": ".py",
      "mimetype": "text/x-python",
      "name": "python",
      "nbconvert_exporter": "python",
      "pygments_lexer": "ipython3",
      "version": "3.10.14"
    }
  },
  "nbformat": 4,
  "nbformat_minor": 0
}
